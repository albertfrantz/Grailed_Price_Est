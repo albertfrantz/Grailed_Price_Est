{
 "cells": [
  {
   "cell_type": "code",
   "execution_count": 92,
   "metadata": {},
   "outputs": [],
   "source": [
    "# imports\n",
    "import pandas as pd\n",
    "import numpy as np\n",
    "import pickle\n",
    "\n",
    "from sklearn.model_selection import train_test_split\n",
    "from sklearn.model_selection import cross_val_score\n",
    "from sklearn.feature_extraction.text import TfidfVectorizer\n",
    "\n",
    "from sklearn.metrics import mean_squared_error\n",
    "from sklearn.tree import DecisionTreeRegressor\n",
    "from sklearn.ensemble import RandomForestRegressor\n",
    "from sklearn.linear_model import LinearRegression\n",
    "from sklearn.ensemble import AdaBoostRegressor\n",
    "from sklearn.ensemble import GradientBoostingRegressor"
   ]
  },
  {
   "cell_type": "code",
   "execution_count": 93,
   "metadata": {},
   "outputs": [],
   "source": [
    "# reading in the final grailed data\n",
    "df = pd.read_csv('../Data/Modeling_Data/modeling_data.csv')"
   ]
  },
  {
   "cell_type": "code",
   "execution_count": 94,
   "metadata": {},
   "outputs": [],
   "source": [
    "# dropping the columns that wont be used in modeling\n",
    "df = df.drop(columns=['username', 'size_color_cond', 'link'])"
   ]
  },
  {
   "cell_type": "code",
   "execution_count": 95,
   "metadata": {},
   "outputs": [
    {
     "data": {
      "text/html": [
       "<div>\n",
       "<style scoped>\n",
       "    .dataframe tbody tr th:only-of-type {\n",
       "        vertical-align: middle;\n",
       "    }\n",
       "\n",
       "    .dataframe tbody tr th {\n",
       "        vertical-align: top;\n",
       "    }\n",
       "\n",
       "    .dataframe thead th {\n",
       "        text-align: right;\n",
       "    }\n",
       "</style>\n",
       "<table border=\"1\" class=\"dataframe\">\n",
       "  <thead>\n",
       "    <tr style=\"text-align: right;\">\n",
       "      <th></th>\n",
       "      <th>sold_price</th>\n",
       "      <th>designer</th>\n",
       "      <th>category</th>\n",
       "      <th>description</th>\n",
       "      <th>sub_title</th>\n",
       "      <th>image_count</th>\n",
       "      <th>feedback_count</th>\n",
       "      <th>size</th>\n",
       "      <th>color</th>\n",
       "      <th>condition</th>\n",
       "    </tr>\n",
       "  </thead>\n",
       "  <tbody>\n",
       "    <tr>\n",
       "      <th>0</th>\n",
       "      <td>110.0</td>\n",
       "      <td>Acne Studios</td>\n",
       "      <td>Shorts</td>\n",
       "      <td>Ryder Bermuda wool/mohair blended shorts from ...</td>\n",
       "      <td>Ryder Bermuda Wool Shorts</td>\n",
       "      <td>5</td>\n",
       "      <td>12.0</td>\n",
       "      <td>US 28 / EU 44</td>\n",
       "      <td>Black</td>\n",
       "      <td>New</td>\n",
       "    </tr>\n",
       "    <tr>\n",
       "      <th>1</th>\n",
       "      <td>155.0</td>\n",
       "      <td>Acne Studios</td>\n",
       "      <td>Casual Pants</td>\n",
       "      <td>Size 46, Asia fitting, Waist- around 31-32 Len...</td>\n",
       "      <td>Jager Cord trousers</td>\n",
       "      <td>10</td>\n",
       "      <td>9.0</td>\n",
       "      <td>US 31</td>\n",
       "      <td>Brown</td>\n",
       "      <td>Gently used</td>\n",
       "    </tr>\n",
       "    <tr>\n",
       "      <th>2</th>\n",
       "      <td>635.0</td>\n",
       "      <td>Acne Studios</td>\n",
       "      <td>Heavy Coats</td>\n",
       "      <td>- Brand name: Acne Studios - Item name: SS15 D...</td>\n",
       "      <td>Acne Studios SS15 Dark Grey Charlie Jacket</td>\n",
       "      <td>4</td>\n",
       "      <td>97.0</td>\n",
       "      <td>US S / EU 44-46 / 1</td>\n",
       "      <td>Dark grey</td>\n",
       "      <td>Gently used</td>\n",
       "    </tr>\n",
       "    <tr>\n",
       "      <th>3</th>\n",
       "      <td>85.0</td>\n",
       "      <td>Acne Studios</td>\n",
       "      <td>Blazers</td>\n",
       "      <td>Great Condition Orange Blazer</td>\n",
       "      <td>Acne Studios Noel Blazer 40R</td>\n",
       "      <td>6</td>\n",
       "      <td>195.0</td>\n",
       "      <td>40R</td>\n",
       "      <td>Orange</td>\n",
       "      <td>Gently used</td>\n",
       "    </tr>\n",
       "    <tr>\n",
       "      <th>4</th>\n",
       "      <td>120.0</td>\n",
       "      <td>Acne Studios</td>\n",
       "      <td>Sweaters &amp; Knitwear</td>\n",
       "      <td>Marked as a large fits more like a medium or m...</td>\n",
       "      <td>Black knit Bill o reverse</td>\n",
       "      <td>3</td>\n",
       "      <td>6.0</td>\n",
       "      <td>US M / EU 48-50 / 2</td>\n",
       "      <td>Black</td>\n",
       "      <td>Used</td>\n",
       "    </tr>\n",
       "  </tbody>\n",
       "</table>\n",
       "</div>"
      ],
      "text/plain": [
       "   sold_price      designer             category  \\\n",
       "0       110.0  Acne Studios               Shorts   \n",
       "1       155.0  Acne Studios         Casual Pants   \n",
       "2       635.0  Acne Studios          Heavy Coats   \n",
       "3        85.0  Acne Studios              Blazers   \n",
       "4       120.0  Acne Studios  Sweaters & Knitwear   \n",
       "\n",
       "                                         description  \\\n",
       "0  Ryder Bermuda wool/mohair blended shorts from ...   \n",
       "1  Size 46, Asia fitting, Waist- around 31-32 Len...   \n",
       "2  - Brand name: Acne Studios - Item name: SS15 D...   \n",
       "3                      Great Condition Orange Blazer   \n",
       "4  Marked as a large fits more like a medium or m...   \n",
       "\n",
       "                                    sub_title  image_count  feedback_count  \\\n",
       "0                   Ryder Bermuda Wool Shorts            5            12.0   \n",
       "1                         Jager Cord trousers           10             9.0   \n",
       "2  Acne Studios SS15 Dark Grey Charlie Jacket            4            97.0   \n",
       "3                Acne Studios Noel Blazer 40R            6           195.0   \n",
       "4                   Black knit Bill o reverse            3             6.0   \n",
       "\n",
       "                  size      color    condition  \n",
       "0        US 28 / EU 44      Black          New  \n",
       "1                US 31      Brown  Gently used  \n",
       "2  US S / EU 44-46 / 1  Dark grey  Gently used  \n",
       "3                  40R     Orange  Gently used  \n",
       "4  US M / EU 48-50 / 2      Black         Used  "
      ]
     },
     "execution_count": 95,
     "metadata": {},
     "output_type": "execute_result"
    }
   ],
   "source": [
    "df.head()"
   ]
  },
  {
   "cell_type": "markdown",
   "metadata": {},
   "source": [
    "# Changing condition column to a numeric\n",
    "\n",
    "1. New = 0\n",
    "2. Gently used = 1\n",
    "3. Used = 2\n",
    "4. Worn = 3"
   ]
  },
  {
   "cell_type": "code",
   "execution_count": 96,
   "metadata": {},
   "outputs": [],
   "source": [
    "cond_dict = {'New':0,'Gently used':1,'Used':2,'Worn':3}"
   ]
  },
  {
   "cell_type": "code",
   "execution_count": 97,
   "metadata": {},
   "outputs": [],
   "source": [
    "df['condition'] = df['condition'].map(cond_dict)"
   ]
  },
  {
   "cell_type": "code",
   "execution_count": 98,
   "metadata": {},
   "outputs": [],
   "source": [
    "df.dropna(inplace=True)"
   ]
  },
  {
   "cell_type": "markdown",
   "metadata": {},
   "source": [
    "# Dummify Designer, Category, Size, and Color"
   ]
  },
  {
   "cell_type": "code",
   "execution_count": 99,
   "metadata": {},
   "outputs": [],
   "source": [
    "df =pd.get_dummies(df, columns=['designer','category', 'size', 'color'], drop_first=True)"
   ]
  },
  {
   "cell_type": "code",
   "execution_count": 100,
   "metadata": {},
   "outputs": [
    {
     "data": {
      "text/html": [
       "<div>\n",
       "<style scoped>\n",
       "    .dataframe tbody tr th:only-of-type {\n",
       "        vertical-align: middle;\n",
       "    }\n",
       "\n",
       "    .dataframe tbody tr th {\n",
       "        vertical-align: top;\n",
       "    }\n",
       "\n",
       "    .dataframe thead th {\n",
       "        text-align: right;\n",
       "    }\n",
       "</style>\n",
       "<table border=\"1\" class=\"dataframe\">\n",
       "  <thead>\n",
       "    <tr style=\"text-align: right;\">\n",
       "      <th></th>\n",
       "      <th>sold_price</th>\n",
       "      <th>description</th>\n",
       "      <th>sub_title</th>\n",
       "      <th>image_count</th>\n",
       "      <th>feedback_count</th>\n",
       "      <th>condition</th>\n",
       "      <th>designer_(B).Stroy</th>\n",
       "      <th>designer_.925 Silver Produced In Italy</th>\n",
       "      <th>designer_032c</th>\n",
       "      <th>designer_1</th>\n",
       "      <th>...</th>\n",
       "      <th>color_Tan</th>\n",
       "      <th>color_Teal</th>\n",
       "      <th>color_Tie dye</th>\n",
       "      <th>color_Tye dye</th>\n",
       "      <th>color_Washed black</th>\n",
       "      <th>color_Whie</th>\n",
       "      <th>color_White</th>\n",
       "      <th>color_White gold</th>\n",
       "      <th>color_Yellow</th>\n",
       "      <th>color_Yellow gold</th>\n",
       "    </tr>\n",
       "  </thead>\n",
       "  <tbody>\n",
       "    <tr>\n",
       "      <th>0</th>\n",
       "      <td>110.0</td>\n",
       "      <td>Ryder Bermuda wool/mohair blended shorts from ...</td>\n",
       "      <td>Ryder Bermuda Wool Shorts</td>\n",
       "      <td>5</td>\n",
       "      <td>12.0</td>\n",
       "      <td>0.0</td>\n",
       "      <td>0</td>\n",
       "      <td>0</td>\n",
       "      <td>0</td>\n",
       "      <td>0</td>\n",
       "      <td>...</td>\n",
       "      <td>0</td>\n",
       "      <td>0</td>\n",
       "      <td>0</td>\n",
       "      <td>0</td>\n",
       "      <td>0</td>\n",
       "      <td>0</td>\n",
       "      <td>0</td>\n",
       "      <td>0</td>\n",
       "      <td>0</td>\n",
       "      <td>0</td>\n",
       "    </tr>\n",
       "    <tr>\n",
       "      <th>1</th>\n",
       "      <td>155.0</td>\n",
       "      <td>Size 46, Asia fitting, Waist- around 31-32 Len...</td>\n",
       "      <td>Jager Cord trousers</td>\n",
       "      <td>10</td>\n",
       "      <td>9.0</td>\n",
       "      <td>1.0</td>\n",
       "      <td>0</td>\n",
       "      <td>0</td>\n",
       "      <td>0</td>\n",
       "      <td>0</td>\n",
       "      <td>...</td>\n",
       "      <td>0</td>\n",
       "      <td>0</td>\n",
       "      <td>0</td>\n",
       "      <td>0</td>\n",
       "      <td>0</td>\n",
       "      <td>0</td>\n",
       "      <td>0</td>\n",
       "      <td>0</td>\n",
       "      <td>0</td>\n",
       "      <td>0</td>\n",
       "    </tr>\n",
       "    <tr>\n",
       "      <th>2</th>\n",
       "      <td>635.0</td>\n",
       "      <td>- Brand name: Acne Studios - Item name: SS15 D...</td>\n",
       "      <td>Acne Studios SS15 Dark Grey Charlie Jacket</td>\n",
       "      <td>4</td>\n",
       "      <td>97.0</td>\n",
       "      <td>1.0</td>\n",
       "      <td>0</td>\n",
       "      <td>0</td>\n",
       "      <td>0</td>\n",
       "      <td>0</td>\n",
       "      <td>...</td>\n",
       "      <td>0</td>\n",
       "      <td>0</td>\n",
       "      <td>0</td>\n",
       "      <td>0</td>\n",
       "      <td>0</td>\n",
       "      <td>0</td>\n",
       "      <td>0</td>\n",
       "      <td>0</td>\n",
       "      <td>0</td>\n",
       "      <td>0</td>\n",
       "    </tr>\n",
       "    <tr>\n",
       "      <th>3</th>\n",
       "      <td>85.0</td>\n",
       "      <td>Great Condition Orange Blazer</td>\n",
       "      <td>Acne Studios Noel Blazer 40R</td>\n",
       "      <td>6</td>\n",
       "      <td>195.0</td>\n",
       "      <td>1.0</td>\n",
       "      <td>0</td>\n",
       "      <td>0</td>\n",
       "      <td>0</td>\n",
       "      <td>0</td>\n",
       "      <td>...</td>\n",
       "      <td>0</td>\n",
       "      <td>0</td>\n",
       "      <td>0</td>\n",
       "      <td>0</td>\n",
       "      <td>0</td>\n",
       "      <td>0</td>\n",
       "      <td>0</td>\n",
       "      <td>0</td>\n",
       "      <td>0</td>\n",
       "      <td>0</td>\n",
       "    </tr>\n",
       "    <tr>\n",
       "      <th>4</th>\n",
       "      <td>120.0</td>\n",
       "      <td>Marked as a large fits more like a medium or m...</td>\n",
       "      <td>Black knit Bill o reverse</td>\n",
       "      <td>3</td>\n",
       "      <td>6.0</td>\n",
       "      <td>2.0</td>\n",
       "      <td>0</td>\n",
       "      <td>0</td>\n",
       "      <td>0</td>\n",
       "      <td>0</td>\n",
       "      <td>...</td>\n",
       "      <td>0</td>\n",
       "      <td>0</td>\n",
       "      <td>0</td>\n",
       "      <td>0</td>\n",
       "      <td>0</td>\n",
       "      <td>0</td>\n",
       "      <td>0</td>\n",
       "      <td>0</td>\n",
       "      <td>0</td>\n",
       "      <td>0</td>\n",
       "    </tr>\n",
       "  </tbody>\n",
       "</table>\n",
       "<p>5 rows × 1124 columns</p>\n",
       "</div>"
      ],
      "text/plain": [
       "   sold_price                                        description  \\\n",
       "0       110.0  Ryder Bermuda wool/mohair blended shorts from ...   \n",
       "1       155.0  Size 46, Asia fitting, Waist- around 31-32 Len...   \n",
       "2       635.0  - Brand name: Acne Studios - Item name: SS15 D...   \n",
       "3        85.0                      Great Condition Orange Blazer   \n",
       "4       120.0  Marked as a large fits more like a medium or m...   \n",
       "\n",
       "                                    sub_title  image_count  feedback_count  \\\n",
       "0                   Ryder Bermuda Wool Shorts            5            12.0   \n",
       "1                         Jager Cord trousers           10             9.0   \n",
       "2  Acne Studios SS15 Dark Grey Charlie Jacket            4            97.0   \n",
       "3                Acne Studios Noel Blazer 40R            6           195.0   \n",
       "4                   Black knit Bill o reverse            3             6.0   \n",
       "\n",
       "   condition  designer_(B).Stroy  designer_.925 Silver Produced In Italy  \\\n",
       "0        0.0                   0                                       0   \n",
       "1        1.0                   0                                       0   \n",
       "2        1.0                   0                                       0   \n",
       "3        1.0                   0                                       0   \n",
       "4        2.0                   0                                       0   \n",
       "\n",
       "   designer_032c  designer_1  ...  color_Tan  color_Teal  color_Tie dye  \\\n",
       "0              0           0  ...          0           0              0   \n",
       "1              0           0  ...          0           0              0   \n",
       "2              0           0  ...          0           0              0   \n",
       "3              0           0  ...          0           0              0   \n",
       "4              0           0  ...          0           0              0   \n",
       "\n",
       "   color_Tye dye  color_Washed black  color_Whie  color_White  \\\n",
       "0              0                   0           0            0   \n",
       "1              0                   0           0            0   \n",
       "2              0                   0           0            0   \n",
       "3              0                   0           0            0   \n",
       "4              0                   0           0            0   \n",
       "\n",
       "   color_White gold  color_Yellow  color_Yellow gold  \n",
       "0                 0             0                  0  \n",
       "1                 0             0                  0  \n",
       "2                 0             0                  0  \n",
       "3                 0             0                  0  \n",
       "4                 0             0                  0  \n",
       "\n",
       "[5 rows x 1124 columns]"
      ]
     },
     "execution_count": 100,
     "metadata": {},
     "output_type": "execute_result"
    }
   ],
   "source": [
    "df.head(3)"
   ]
  },
  {
   "cell_type": "markdown",
   "metadata": {},
   "source": [
    "## Train test split"
   ]
  },
  {
   "cell_type": "code",
   "execution_count": 106,
   "metadata": {},
   "outputs": [],
   "source": [
    "# seperating into indepedent and dependent variables\n",
    "X = df.drop(columns=['sold_price', 'description', 'sub_title'])\n",
    "y = df['sold_price']"
   ]
  },
  {
   "cell_type": "code",
   "execution_count": 107,
   "metadata": {},
   "outputs": [],
   "source": [
    "X_train, X_test, y_train, y_test = train_test_split(X, y, test_size=0.15)"
   ]
  },
  {
   "cell_type": "markdown",
   "metadata": {},
   "source": [
    "exporting for webapp (prob remove"
   ]
  },
  {
   "cell_type": "code",
   "execution_count": 108,
   "metadata": {},
   "outputs": [],
   "source": [
    "df.to_csv('X_data.csv', index=False)\n"
   ]
  },
  {
   "cell_type": "code",
   "execution_count": 109,
   "metadata": {},
   "outputs": [
    {
     "data": {
      "text/plain": [
       "Index(['image_count', 'feedback_count', 'condition', 'designer_(B).Stroy',\n",
       "       'designer_.925 Silver Produced In Italy', 'designer_032c', 'designer_1',\n",
       "       'designer_10 Deep', 'designer_100 Thieves', 'designer_1017 ALYX 9SM',\n",
       "       ...\n",
       "       'color_Tan', 'color_Teal', 'color_Tie dye', 'color_Tye dye',\n",
       "       'color_Washed black', 'color_Whie', 'color_White', 'color_White gold',\n",
       "       'color_Yellow', 'color_Yellow gold'],\n",
       "      dtype='object', length=1121)"
      ]
     },
     "execution_count": 109,
     "metadata": {},
     "output_type": "execute_result"
    }
   ],
   "source": [
    "X_train.columns"
   ]
  },
  {
   "cell_type": "markdown",
   "metadata": {},
   "source": [
    "# Decision Tree Model"
   ]
  },
  {
   "cell_type": "code",
   "execution_count": 110,
   "metadata": {},
   "outputs": [
    {
     "data": {
      "text/plain": [
       "DecisionTreeRegressor()"
      ]
     },
     "execution_count": 110,
     "metadata": {},
     "output_type": "execute_result"
    }
   ],
   "source": [
    "# intiatiating and traing the model\n",
    "dt = DecisionTreeRegressor()\n",
    "dt.fit(X_train, y_train)"
   ]
  },
  {
   "cell_type": "code",
   "execution_count": 113,
   "metadata": {},
   "outputs": [
    {
     "data": {
      "text/plain": [
       "-14727.39755551584"
      ]
     },
     "execution_count": 113,
     "metadata": {},
     "output_type": "execute_result"
    }
   ],
   "source": [
    "# cross val of MSE\n",
    "scores = cross_val_score(dt, X, y, cv=5, scoring='neg_mean_squared_error')\n",
    "scores.mean()"
   ]
  },
  {
   "cell_type": "code",
   "execution_count": 111,
   "metadata": {},
   "outputs": [
    {
     "data": {
      "text/plain": [
       "0.9955128497238886"
      ]
     },
     "execution_count": 111,
     "metadata": {},
     "output_type": "execute_result"
    }
   ],
   "source": [
    "# r2 training score\n",
    "dt.score(X_train, y_train)"
   ]
  },
  {
   "cell_type": "code",
   "execution_count": 112,
   "metadata": {},
   "outputs": [
    {
     "data": {
      "text/plain": [
       "0.07834727875169678"
      ]
     },
     "execution_count": 112,
     "metadata": {},
     "output_type": "execute_result"
    }
   ],
   "source": [
    "# rs testing score\n",
    "dt.score(X_test, y_test)"
   ]
  },
  {
   "cell_type": "markdown",
   "metadata": {},
   "source": [
    "# Random Forest Model"
   ]
  },
  {
   "cell_type": "code",
   "execution_count": 147,
   "metadata": {},
   "outputs": [
    {
     "data": {
      "text/plain": [
       "RandomForestRegressor(max_depth=100, n_estimators=20)"
      ]
     },
     "execution_count": 147,
     "metadata": {},
     "output_type": "execute_result"
    }
   ],
   "source": [
    "# intiatiating and traing the model\n",
    "rf = RandomForestRegressor(n_estimators = 20, max_depth = 100)\n",
    "rf.fit(X_train, y_train)"
   ]
  },
  {
   "cell_type": "code",
   "execution_count": 148,
   "metadata": {},
   "outputs": [
    {
     "data": {
      "text/plain": [
       "-10825.497567367976"
      ]
     },
     "execution_count": 148,
     "metadata": {},
     "output_type": "execute_result"
    }
   ],
   "source": [
    "# cross val of MSE\n",
    "scores = cross_val_score(rf, X, y, cv=5, scoring='neg_mean_squared_error')\n",
    "scores.mean()"
   ]
  },
  {
   "cell_type": "code",
   "execution_count": 149,
   "metadata": {},
   "outputs": [
    {
     "data": {
      "text/plain": [
       "0.889445721589773"
      ]
     },
     "execution_count": 149,
     "metadata": {},
     "output_type": "execute_result"
    }
   ],
   "source": [
    "# r2 training score\n",
    "rf.score(X_train, y_train)"
   ]
  },
  {
   "cell_type": "code",
   "execution_count": 150,
   "metadata": {},
   "outputs": [
    {
     "data": {
      "text/plain": [
       "0.4200986710193725"
      ]
     },
     "execution_count": 150,
     "metadata": {},
     "output_type": "execute_result"
    }
   ],
   "source": [
    "# r2 testing score\n",
    "rf.score(X_test, y_test)"
   ]
  },
  {
   "cell_type": "markdown",
   "metadata": {},
   "source": [
    "# Adaboost model"
   ]
  },
  {
   "cell_type": "code",
   "execution_count": 131,
   "metadata": {},
   "outputs": [
    {
     "data": {
      "text/plain": [
       "AdaBoostRegressor()"
      ]
     },
     "execution_count": 131,
     "metadata": {},
     "output_type": "execute_result"
    }
   ],
   "source": [
    "# intiatiating and traing the model\n",
    "ada = AdaBoostRegressor(n_estimators=50)\n",
    "ada.fit(X_train, y_train)"
   ]
  },
  {
   "cell_type": "code",
   "execution_count": 132,
   "metadata": {},
   "outputs": [
    {
     "data": {
      "text/plain": [
       "-21679.46587290589"
      ]
     },
     "execution_count": 132,
     "metadata": {},
     "output_type": "execute_result"
    }
   ],
   "source": [
    "# cross val of MSE\n",
    "scores = cross_val_score(ada, X_test, y_test, cv=5, scoring='neg_mean_squared_error')\n",
    "scores.mean()"
   ]
  },
  {
   "cell_type": "code",
   "execution_count": 133,
   "metadata": {},
   "outputs": [
    {
     "data": {
      "text/plain": [
       "-0.6764030205059925"
      ]
     },
     "execution_count": 133,
     "metadata": {},
     "output_type": "execute_result"
    }
   ],
   "source": [
    "# r2 training score\n",
    "ada.score(X_train, y_train)"
   ]
  },
  {
   "cell_type": "code",
   "execution_count": 134,
   "metadata": {},
   "outputs": [
    {
     "data": {
      "text/plain": [
       "-0.7309151867314589"
      ]
     },
     "execution_count": 134,
     "metadata": {},
     "output_type": "execute_result"
    }
   ],
   "source": [
    "# r2 testing score\n",
    "ada.score(X_test, y_test)"
   ]
  },
  {
   "cell_type": "markdown",
   "metadata": {},
   "source": [
    "# Gradient boost model"
   ]
  },
  {
   "cell_type": "code",
   "execution_count": 139,
   "metadata": {},
   "outputs": [
    {
     "data": {
      "text/plain": [
       "GradientBoostingRegressor(max_depth=100, n_estimators=10)"
      ]
     },
     "execution_count": 139,
     "metadata": {},
     "output_type": "execute_result"
    }
   ],
   "source": [
    "# intiatiating and traing the model\n",
    "gb = GradientBoostingRegressor(n_estimators=10,max_depth=100)\n",
    "gb.fit(X_train, y_train)"
   ]
  },
  {
   "cell_type": "code",
   "execution_count": 140,
   "metadata": {},
   "outputs": [
    {
     "data": {
      "text/plain": [
       "-27879.025404805987"
      ]
     },
     "execution_count": 140,
     "metadata": {},
     "output_type": "execute_result"
    }
   ],
   "source": [
    "# cross val of MSE\n",
    "scores = cross_val_score(ada, X_test, y_test, cv=5, scoring='neg_mean_squared_error')\n",
    "scores.mean()"
   ]
  },
  {
   "cell_type": "code",
   "execution_count": 141,
   "metadata": {},
   "outputs": [
    {
     "data": {
      "text/plain": [
       "0.8532445450131451"
      ]
     },
     "execution_count": 141,
     "metadata": {},
     "output_type": "execute_result"
    }
   ],
   "source": [
    "# r2 training score\n",
    "gb.score(X_train, y_train)"
   ]
  },
  {
   "cell_type": "code",
   "execution_count": 142,
   "metadata": {},
   "outputs": [
    {
     "data": {
      "text/plain": [
       "0.3231672567627303"
      ]
     },
     "execution_count": 142,
     "metadata": {},
     "output_type": "execute_result"
    }
   ],
   "source": [
    "# r2 testing score\n",
    "gb.score(X_test, y_test)"
   ]
  },
  {
   "cell_type": "markdown",
   "metadata": {},
   "source": [
    "# Exporting the models"
   ]
  },
  {
   "cell_type": "code",
   "execution_count": 151,
   "metadata": {},
   "outputs": [],
   "source": [
    "with open('grailed_model_rf.pkl', 'wb') as file:\n",
    "    pickle.dump(rf, file)"
   ]
  },
  {
   "cell_type": "code",
   "execution_count": 153,
   "metadata": {},
   "outputs": [],
   "source": [
    "with open('grailed_model_dt.pkl', 'wb') as file:\n",
    "    pickle.dump(dt, file)"
   ]
  },
  {
   "cell_type": "code",
   "execution_count": 154,
   "metadata": {},
   "outputs": [],
   "source": [
    "with open('grailed_model_ada.pkl', 'wb') as file:\n",
    "    pickle.dump(ada, file)"
   ]
  },
  {
   "cell_type": "code",
   "execution_count": 155,
   "metadata": {},
   "outputs": [],
   "source": [
    "with open('grailed_model_gb.pkl', 'wb') as file:\n",
    "    pickle.dump(gb, file)"
   ]
  },
  {
   "cell_type": "code",
   "execution_count": 152,
   "metadata": {},
   "outputs": [],
   "source": [
    "model_columns = list(X.columns)\n",
    "with open('model_columns.pkl', 'wb') as file:\n",
    "    pickle.dump(model_columns, file)"
   ]
  }
 ],
 "metadata": {
  "kernelspec": {
   "display_name": "Python 3",
   "language": "python",
   "name": "python3"
  },
  "language_info": {
   "codemirror_mode": {
    "name": "ipython",
    "version": 3
   },
   "file_extension": ".py",
   "mimetype": "text/x-python",
   "name": "python",
   "nbconvert_exporter": "python",
   "pygments_lexer": "ipython3",
   "version": "3.8.3"
  }
 },
 "nbformat": 4,
 "nbformat_minor": 4
}
