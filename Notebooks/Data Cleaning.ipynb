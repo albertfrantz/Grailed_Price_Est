{
 "cells": [
  {
   "cell_type": "markdown",
   "metadata": {},
   "source": [
    "# Data cleaning\n",
    "\n",
    "### This notebook goes through the datacleaning process"
   ]
  },
  {
   "cell_type": "code",
   "execution_count": 1,
   "metadata": {},
   "outputs": [],
   "source": [
    "# imports\n",
    "import pandas as pd\n",
    "import numpy as np"
   ]
  },
  {
   "cell_type": "code",
   "execution_count": 2,
   "metadata": {},
   "outputs": [],
   "source": [
    "# reading in the data frames\n",
    "df_1 = pd.read_csv('../Data/Item_Data/item_desc_1.csv', index_col=[0])\n",
    "df_2 = pd.read_csv('../Data/Item_Data/item_desc_2.csv', index_col=[0])\n",
    "df_3 = pd.read_csv('../Data/Item_Data/item_desc_3.csv', index_col=[0])\n",
    "df_4 = pd.read_csv('../Data/Item_Data/item_desc_4.csv', index_col=[0])\n",
    "df_5 = pd.read_csv('../Data/Item_Data/item_desc_5.csv', index_col=[0])\n",
    "df_6 = pd.read_csv('../Data/Item_Data/item_desc_1.csv', index_col=[0])\n",
    "df = pd.concat([df_1, df_2, df_3, df_4, df_5, df_6], axis=0)"
   ]
  },
  {
   "cell_type": "code",
   "execution_count": 23,
   "metadata": {
    "scrolled": true
   },
   "outputs": [
    {
     "data": {
      "text/html": [
       "<div>\n",
       "<style scoped>\n",
       "    .dataframe tbody tr th:only-of-type {\n",
       "        vertical-align: middle;\n",
       "    }\n",
       "\n",
       "    .dataframe tbody tr th {\n",
       "        vertical-align: top;\n",
       "    }\n",
       "\n",
       "    .dataframe thead th {\n",
       "        text-align: right;\n",
       "    }\n",
       "</style>\n",
       "<table border=\"1\" class=\"dataframe\">\n",
       "  <thead>\n",
       "    <tr style=\"text-align: right;\">\n",
       "      <th></th>\n",
       "      <th>username</th>\n",
       "      <th>sold_price</th>\n",
       "      <th>designer</th>\n",
       "      <th>category</th>\n",
       "      <th>description</th>\n",
       "      <th>sub_title</th>\n",
       "      <th>image_count</th>\n",
       "      <th>size_color_cond</th>\n",
       "      <th>feedback_count</th>\n",
       "      <th>link</th>\n",
       "    </tr>\n",
       "  </thead>\n",
       "  <tbody>\n",
       "    <tr>\n",
       "      <th>0</th>\n",
       "      <td>tabw8045</td>\n",
       "      <td>$110 (Sold Price)</td>\n",
       "      <td>Acne Studios</td>\n",
       "      <td>Acne Studios Shorts</td>\n",
       "      <td>Ryder Bermuda wool/mohair blended shorts from ...</td>\n",
       "      <td>Ryder Bermuda Wool Shorts</td>\n",
       "      <td>5</td>\n",
       "      <td>Size: US 28 / EU 44 Color: Black Condition: New</td>\n",
       "      <td>12 Feedback</td>\n",
       "      <td>https://www.grailed.com/listings/15211509-acne...</td>\n",
       "    </tr>\n",
       "    <tr>\n",
       "      <th>1</th>\n",
       "      <td>kenny_v</td>\n",
       "      <td>$155 (Sold Price)</td>\n",
       "      <td>Acne Studios</td>\n",
       "      <td>Acne Studios Casual Pants</td>\n",
       "      <td>Size 46,\\nAsia fitting,\\nWaist- around 31-32\\n...</td>\n",
       "      <td>Jager Cord trousers</td>\n",
       "      <td>10</td>\n",
       "      <td>Size: US 31 Color: Brown Condition: Gently used</td>\n",
       "      <td>9 Feedback</td>\n",
       "      <td>https://www.grailed.com/listings/19510032-acne...</td>\n",
       "    </tr>\n",
       "    <tr>\n",
       "      <th>2</th>\n",
       "      <td>MARKEDEU</td>\n",
       "      <td>$635 (Sold Price)</td>\n",
       "      <td>Acne Studios</td>\n",
       "      <td>Acne Studios Heavy Coats</td>\n",
       "      <td>- Brand name: Acne Studios\\n- Item name: SS15 ...</td>\n",
       "      <td>Acne Studios SS15 Dark Grey Charlie Jacket</td>\n",
       "      <td>4</td>\n",
       "      <td>Size: US S / EU 44-46 / 1 Color: Dark grey Co...</td>\n",
       "      <td>97 Feedback</td>\n",
       "      <td>https://www.grailed.com/listings/18387779-acne...</td>\n",
       "    </tr>\n",
       "    <tr>\n",
       "      <th>3</th>\n",
       "      <td>mayonaise</td>\n",
       "      <td>$85 (Sold Price)</td>\n",
       "      <td>Acne Studios</td>\n",
       "      <td>Acne Studios Blazers</td>\n",
       "      <td>Great Condition\\nOrange Blazer</td>\n",
       "      <td>Acne Studios Noel Blazer 40R</td>\n",
       "      <td>6</td>\n",
       "      <td>Size: 40R Color: Orange Condition: Gently used</td>\n",
       "      <td>195 Feedback</td>\n",
       "      <td>https://www.grailed.com/listings/19018436-acne...</td>\n",
       "    </tr>\n",
       "    <tr>\n",
       "      <th>4</th>\n",
       "      <td>aeroebogaard</td>\n",
       "      <td>$120 (Sold Price)</td>\n",
       "      <td>Acne Studios</td>\n",
       "      <td>Acne Studios Sweaters &amp; Knitwear</td>\n",
       "      <td>Marked as a large fits more like a medium or m...</td>\n",
       "      <td>Black knit Bill o reverse</td>\n",
       "      <td>3</td>\n",
       "      <td>Size: US M / EU 48-50 / 2 Color: Black Condit...</td>\n",
       "      <td>6 Feedback</td>\n",
       "      <td>https://www.grailed.com/listings/19637389-acne...</td>\n",
       "    </tr>\n",
       "  </tbody>\n",
       "</table>\n",
       "</div>"
      ],
      "text/plain": [
       "       username         sold_price      designer  \\\n",
       "0      tabw8045  $110 (Sold Price)  Acne Studios   \n",
       "1       kenny_v  $155 (Sold Price)  Acne Studios   \n",
       "2      MARKEDEU  $635 (Sold Price)  Acne Studios   \n",
       "3     mayonaise   $85 (Sold Price)  Acne Studios   \n",
       "4  aeroebogaard  $120 (Sold Price)  Acne Studios   \n",
       "\n",
       "                           category  \\\n",
       "0               Acne Studios Shorts   \n",
       "1         Acne Studios Casual Pants   \n",
       "2          Acne Studios Heavy Coats   \n",
       "3              Acne Studios Blazers   \n",
       "4  Acne Studios Sweaters & Knitwear   \n",
       "\n",
       "                                         description  \\\n",
       "0  Ryder Bermuda wool/mohair blended shorts from ...   \n",
       "1  Size 46,\\nAsia fitting,\\nWaist- around 31-32\\n...   \n",
       "2  - Brand name: Acne Studios\\n- Item name: SS15 ...   \n",
       "3                     Great Condition\\nOrange Blazer   \n",
       "4  Marked as a large fits more like a medium or m...   \n",
       "\n",
       "                                    sub_title  image_count  \\\n",
       "0                   Ryder Bermuda Wool Shorts            5   \n",
       "1                         Jager Cord trousers           10   \n",
       "2  Acne Studios SS15 Dark Grey Charlie Jacket            4   \n",
       "3                Acne Studios Noel Blazer 40R            6   \n",
       "4                   Black knit Bill o reverse            3   \n",
       "\n",
       "                                     size_color_cond feedback_count  \\\n",
       "0    Size: US 28 / EU 44 Color: Black Condition: New    12 Feedback   \n",
       "1    Size: US 31 Color: Brown Condition: Gently used     9 Feedback   \n",
       "2   Size: US S / EU 44-46 / 1 Color: Dark grey Co...    97 Feedback   \n",
       "3     Size: 40R Color: Orange Condition: Gently used   195 Feedback   \n",
       "4   Size: US M / EU 48-50 / 2 Color: Black Condit...     6 Feedback   \n",
       "\n",
       "                                                link  \n",
       "0  https://www.grailed.com/listings/15211509-acne...  \n",
       "1  https://www.grailed.com/listings/19510032-acne...  \n",
       "2  https://www.grailed.com/listings/18387779-acne...  \n",
       "3  https://www.grailed.com/listings/19018436-acne...  \n",
       "4  https://www.grailed.com/listings/19637389-acne...  "
      ]
     },
     "execution_count": 23,
     "metadata": {},
     "output_type": "execute_result"
    }
   ],
   "source": [
    "df.head()"
   ]
  },
  {
   "cell_type": "code",
   "execution_count": 24,
   "metadata": {},
   "outputs": [
    {
     "data": {
      "text/plain": [
       "username           1225\n",
       "sold_price          386\n",
       "designer            536\n",
       "category            384\n",
       "description         384\n",
       "sub_title           384\n",
       "image_count           0\n",
       "size_color_cond     384\n",
       "feedback_count     6071\n",
       "link                  0\n",
       "dtype: int64"
      ]
     },
     "execution_count": 24,
     "metadata": {},
     "output_type": "execute_result"
    }
   ],
   "source": [
    "# checking for nans and empty strings\n",
    "df.isnull().sum()"
   ]
  },
  {
   "cell_type": "code",
   "execution_count": 25,
   "metadata": {},
   "outputs": [
    {
     "data": {
      "text/plain": [
       "username           object\n",
       "sold_price         object\n",
       "designer           object\n",
       "category           object\n",
       "description        object\n",
       "sub_title          object\n",
       "image_count         int64\n",
       "size_color_cond    object\n",
       "feedback_count     object\n",
       "link               object\n",
       "dtype: object"
      ]
     },
     "execution_count": 25,
     "metadata": {},
     "output_type": "execute_result"
    }
   ],
   "source": [
    "# checking datatypes\n",
    "df.dtypes"
   ]
  },
  {
   "cell_type": "markdown",
   "metadata": {},
   "source": [
    "## Cleaning up the feedback_count column\n",
    "\n",
    "1. making column a float\n",
    "2. replacing nan with 0"
   ]
  },
  {
   "cell_type": "code",
   "execution_count": 27,
   "metadata": {},
   "outputs": [],
   "source": [
    "df['feedback_count'] = df['feedback_count'].str.extract('(\\d+)').astype(float)"
   ]
  },
  {
   "cell_type": "code",
   "execution_count": 28,
   "metadata": {},
   "outputs": [],
   "source": [
    "# changing missing feedback_count to zero instead of an empty string\n",
    "df['feedback_count'] = df['feedback_count'].fillna(0)"
   ]
  },
  {
   "cell_type": "code",
   "execution_count": 29,
   "metadata": {},
   "outputs": [
    {
     "data": {
      "text/plain": [
       "1.0       6219\n",
       "0.0       6071\n",
       "2.0       5077\n",
       "3.0       4709\n",
       "4.0       3934\n",
       "          ... \n",
       "1181.0       1\n",
       "1320.0       1\n",
       "741.0        1\n",
       "679.0        1\n",
       "648.0        1\n",
       "Name: feedback_count, Length: 1193, dtype: int64"
      ]
     },
     "execution_count": 29,
     "metadata": {},
     "output_type": "execute_result"
    }
   ],
   "source": [
    "df['feedback_count'].value_counts()"
   ]
  },
  {
   "cell_type": "markdown",
   "metadata": {},
   "source": [
    "## Dropping Remaining NANs\n",
    "\n",
    "decided that there wasnt much of a way to fix these values and there were so few overall."
   ]
  },
  {
   "cell_type": "code",
   "execution_count": 30,
   "metadata": {},
   "outputs": [],
   "source": [
    "df.dropna(inplace=True)"
   ]
  },
  {
   "cell_type": "code",
   "execution_count": 31,
   "metadata": {
    "scrolled": true
   },
   "outputs": [
    {
     "data": {
      "text/plain": [
       "username           0\n",
       "sold_price         0\n",
       "designer           0\n",
       "category           0\n",
       "description        0\n",
       "sub_title          0\n",
       "image_count        0\n",
       "size_color_cond    0\n",
       "feedback_count     0\n",
       "link               0\n",
       "dtype: int64"
      ]
     },
     "execution_count": 31,
     "metadata": {},
     "output_type": "execute_result"
    }
   ],
   "source": [
    "df.isnull().sum()"
   ]
  },
  {
   "cell_type": "markdown",
   "metadata": {},
   "source": [
    "## Cleaning up sold_price column\n",
    "\n",
    "1. cast column as a float\n",
    "2. check for an zeros or negative numbers to remove"
   ]
  },
  {
   "cell_type": "code",
   "execution_count": 32,
   "metadata": {},
   "outputs": [
    {
     "data": {
      "text/plain": [
       "0        110.0\n",
       "1        155.0\n",
       "2        635.0\n",
       "3         85.0\n",
       "4        120.0\n",
       "         ...  \n",
       "29864    298.0\n",
       "29865    100.0\n",
       "29866    350.0\n",
       "29867    260.0\n",
       "29868     60.0\n",
       "Name: sold_price, Length: 194369, dtype: float64"
      ]
     },
     "execution_count": 32,
     "metadata": {},
     "output_type": "execute_result"
    }
   ],
   "source": [
    "# changing sold_price to a float\n",
    "df['sold_price'] = df['sold_price'].str.extract('(\\d+)').astype(float)\n",
    "df['sold_price']"
   ]
  },
  {
   "cell_type": "code",
   "execution_count": 33,
   "metadata": {},
   "outputs": [
    {
     "data": {
      "text/html": [
       "<div>\n",
       "<style scoped>\n",
       "    .dataframe tbody tr th:only-of-type {\n",
       "        vertical-align: middle;\n",
       "    }\n",
       "\n",
       "    .dataframe tbody tr th {\n",
       "        vertical-align: top;\n",
       "    }\n",
       "\n",
       "    .dataframe thead th {\n",
       "        text-align: right;\n",
       "    }\n",
       "</style>\n",
       "<table border=\"1\" class=\"dataframe\">\n",
       "  <thead>\n",
       "    <tr style=\"text-align: right;\">\n",
       "      <th></th>\n",
       "      <th>username</th>\n",
       "      <th>sold_price</th>\n",
       "      <th>designer</th>\n",
       "      <th>category</th>\n",
       "      <th>description</th>\n",
       "      <th>sub_title</th>\n",
       "      <th>image_count</th>\n",
       "      <th>size_color_cond</th>\n",
       "      <th>feedback_count</th>\n",
       "      <th>link</th>\n",
       "    </tr>\n",
       "  </thead>\n",
       "  <tbody>\n",
       "  </tbody>\n",
       "</table>\n",
       "</div>"
      ],
      "text/plain": [
       "Empty DataFrame\n",
       "Columns: [username, sold_price, designer, category, description, sub_title, image_count, size_color_cond, feedback_count, link]\n",
       "Index: []"
      ]
     },
     "execution_count": 33,
     "metadata": {},
     "output_type": "execute_result"
    }
   ],
   "source": [
    "# checking for sold_price less than or equal to zero\n",
    "df[df['sold_price'] <= 0]\n",
    "# no values to remove"
   ]
  },
  {
   "cell_type": "markdown",
   "metadata": {},
   "source": [
    "## Cleaing up category column\n",
    "\n",
    "1. removing designer name from category\n",
    "2. drop rows if category contains less than 10"
   ]
  },
  {
   "cell_type": "code",
   "execution_count": 34,
   "metadata": {},
   "outputs": [],
   "source": [
    "# reseting the index given it had values dropped\n",
    "df.index = range(len(df))"
   ]
  },
  {
   "cell_type": "code",
   "execution_count": 35,
   "metadata": {
    "scrolled": true
   },
   "outputs": [],
   "source": [
    "# making sure category is a string\n",
    "df['category'] = df['category'].astype(str)"
   ]
  },
  {
   "cell_type": "code",
   "execution_count": 36,
   "metadata": {},
   "outputs": [],
   "source": [
    "# making sure designer is a string\n",
    "df['designer'] = df['designer'].astype(str)"
   ]
  },
  {
   "cell_type": "code",
   "execution_count": 37,
   "metadata": {},
   "outputs": [],
   "source": [
    "# function to replace designers in category column with empty string leaving only the item category\n",
    "def replace_designer(row):\n",
    "    words = df['designer'][row].split() # splitting the designer into multple words incase multiple designers are present\n",
    "    for word in words:\n",
    "        if word in df['category'][row]:\n",
    "            df['category'][row] = df['category'][row].replace(word,'') # goes through each word and replaces with empty string if present\n",
    "    return df['category'][row].strip()"
   ]
  },
  {
   "cell_type": "code",
   "execution_count": 38,
   "metadata": {
    "scrolled": false
   },
   "outputs": [
    {
     "name": "stderr",
     "output_type": "stream",
     "text": [
      "<ipython-input-37-8bd2803f4eaa>:6: SettingWithCopyWarning: \n",
      "A value is trying to be set on a copy of a slice from a DataFrame\n",
      "\n",
      "See the caveats in the documentation: https://pandas.pydata.org/pandas-docs/stable/user_guide/indexing.html#returning-a-view-versus-a-copy\n",
      "  df['category'][row] = df['category'][row].replace(word,'') # goes through each word and replaces with empty string if present\n"
     ]
    }
   ],
   "source": [
    "# using function on all data to remove designer from category\n",
    "for i in range(len(df['category'])):\n",
    "    replace_designer(i)"
   ]
  },
  {
   "cell_type": "code",
   "execution_count": 39,
   "metadata": {},
   "outputs": [],
   "source": [
    "df['category']= df['category'].map(lambda x: x.strip())"
   ]
  },
  {
   "cell_type": "code",
   "execution_count": 40,
   "metadata": {},
   "outputs": [],
   "source": [
    "# dropping all rows if category count is less than 10\n",
    "df = df.groupby('category').filter(lambda x : len(x)>10)"
   ]
  },
  {
   "cell_type": "markdown",
   "metadata": {},
   "source": [
    "## Cleaning up size_color_condition column\n",
    "\n",
    "1. create a column for size\n",
    "2. create a column for color\n",
    "3. create a column for condition\n",
    "4. drop all rows that all 3 columns could not be created"
   ]
  },
  {
   "cell_type": "code",
   "execution_count": 41,
   "metadata": {},
   "outputs": [],
   "source": [
    "# resetting the index\n",
    "df.index = range(len(df))"
   ]
  },
  {
   "cell_type": "code",
   "execution_count": 42,
   "metadata": {},
   "outputs": [],
   "source": [
    "# extracting the size into a new size column\n",
    "def get_size(row):\n",
    "    words = df['size_color_cond'][row]\n",
    "    try:\n",
    "        df['size'][row] = words[words.find('Size:'):words.find('Color:')].replace('Size:', '').strip() # will find all things after size\n",
    "    except: \n",
    "        df['size'][row] = np.nan\n",
    "    return df['size'][row]"
   ]
  },
  {
   "cell_type": "code",
   "execution_count": 43,
   "metadata": {
    "scrolled": true
   },
   "outputs": [
    {
     "name": "stderr",
     "output_type": "stream",
     "text": [
      "<ipython-input-42-c7affa5dbf5f>:5: SettingWithCopyWarning: \n",
      "A value is trying to be set on a copy of a slice from a DataFrame\n",
      "\n",
      "See the caveats in the documentation: https://pandas.pydata.org/pandas-docs/stable/user_guide/indexing.html#returning-a-view-versus-a-copy\n",
      "  df['size'][row] = words[words.find('Size:'):words.find('Color:')].replace('Size:', '').strip() # will find all things after size\n",
      "C:\\Users\\alber\\anaconda3\\lib\\site-packages\\pandas\\core\\indexing.py:671: SettingWithCopyWarning: \n",
      "A value is trying to be set on a copy of a slice from a DataFrame\n",
      "\n",
      "See the caveats in the documentation: https://pandas.pydata.org/pandas-docs/stable/user_guide/indexing.html#returning-a-view-versus-a-copy\n",
      "  self._setitem_with_indexer(indexer, value)\n"
     ]
    }
   ],
   "source": [
    "# applying get_size to all rows\n",
    "df['size'] = 0\n",
    "for i in range(len(df['size_color_cond'])):\n",
    "    get_size(i)"
   ]
  },
  {
   "cell_type": "code",
   "execution_count": 44,
   "metadata": {},
   "outputs": [],
   "source": [
    "# extracting the color into a new color column\n",
    "def get_color(row):\n",
    "    words = df['size_color_cond'][row] # splitting the designer into multple words incase multiple designers are present\n",
    "    try:\n",
    "        df['color'][row] = words[words.find('Color:'):words.find('Condition:')].replace('Color:', '').strip()\n",
    "    except:\n",
    "        df['color'][row] = np.nan\n",
    "    return df['color'][row]"
   ]
  },
  {
   "cell_type": "code",
   "execution_count": 45,
   "metadata": {},
   "outputs": [
    {
     "name": "stderr",
     "output_type": "stream",
     "text": [
      "<ipython-input-44-1682ea72a615>:5: SettingWithCopyWarning: \n",
      "A value is trying to be set on a copy of a slice from a DataFrame\n",
      "\n",
      "See the caveats in the documentation: https://pandas.pydata.org/pandas-docs/stable/user_guide/indexing.html#returning-a-view-versus-a-copy\n",
      "  df['color'][row] = words[words.find('Color:'):words.find('Condition:')].replace('Color:', '').strip()\n"
     ]
    }
   ],
   "source": [
    "# applying get_color to all rows\n",
    "df['color'] = 'none'\n",
    "for i in range(len(df['size_color_cond'])):\n",
    "    get_color(i)"
   ]
  },
  {
   "cell_type": "code",
   "execution_count": 46,
   "metadata": {},
   "outputs": [],
   "source": [
    "# extracting the condition into a new condition column\n",
    "def get_condition(row):\n",
    "    words = df['size_color_cond'][row] \n",
    "    try:\n",
    "        df['condition'][row] = words[words.find('Condition:')::].replace('Condition:', '').strip()\n",
    "    except:\n",
    "        df['condition'][row] = np.nan\n",
    "    return df['condition'][row]"
   ]
  },
  {
   "cell_type": "code",
   "execution_count": 47,
   "metadata": {},
   "outputs": [
    {
     "name": "stderr",
     "output_type": "stream",
     "text": [
      "<ipython-input-46-5d5ba7cac5dd>:5: SettingWithCopyWarning: \n",
      "A value is trying to be set on a copy of a slice from a DataFrame\n",
      "\n",
      "See the caveats in the documentation: https://pandas.pydata.org/pandas-docs/stable/user_guide/indexing.html#returning-a-view-versus-a-copy\n",
      "  df['condition'][row] = words[words.find('Condition:')::].replace('Condition:', '').strip()\n"
     ]
    }
   ],
   "source": [
    "# applying get_condition to all rows\n",
    "df['condition'] = 'none'\n",
    "for i in range(len(df['size_color_cond'])):\n",
    "    get_condition(i)"
   ]
  },
  {
   "cell_type": "code",
   "execution_count": 48,
   "metadata": {},
   "outputs": [],
   "source": [
    "# replacing empty strings with nan\n",
    "df.replace(r'^\\s*$', np.nan, regex=True, inplace = True)"
   ]
  },
  {
   "cell_type": "code",
   "execution_count": 49,
   "metadata": {},
   "outputs": [],
   "source": [
    "# dropping rows that did not have all 3 categories, size color and condition\n",
    "df.dropna(inplace=True)"
   ]
  },
  {
   "cell_type": "markdown",
   "metadata": {},
   "source": [
    "# Cleaning condition column\n",
    "\n",
    "1. removing outlier conditions"
   ]
  },
  {
   "cell_type": "code",
   "execution_count": 50,
   "metadata": {},
   "outputs": [],
   "source": [
    "# dropping all rows of condition count less than 100\n",
    "df = df.groupby('condition').filter(lambda x : len(x)>100)"
   ]
  },
  {
   "cell_type": "markdown",
   "metadata": {},
   "source": [
    "# Cleaning color column\n",
    "\n",
    "1. removing outlier colors"
   ]
  },
  {
   "cell_type": "code",
   "execution_count": 51,
   "metadata": {},
   "outputs": [],
   "source": [
    "df = df.groupby('color').filter(lambda x : len(x)>100)"
   ]
  },
  {
   "cell_type": "markdown",
   "metadata": {},
   "source": [
    "# Cleaning size column\n",
    "\n",
    "1. removing outlier sizes"
   ]
  },
  {
   "cell_type": "code",
   "execution_count": 52,
   "metadata": {},
   "outputs": [],
   "source": [
    "df = df.groupby('size').filter(lambda x : len(x)>20)"
   ]
  },
  {
   "cell_type": "markdown",
   "metadata": {},
   "source": [
    "## Cleaning up description column\n",
    "\n",
    "1. remove new lines (\\n) from description"
   ]
  },
  {
   "cell_type": "code",
   "execution_count": 53,
   "metadata": {},
   "outputs": [],
   "source": [
    "# replacing \\n with a space\n",
    "df['description'] = df['description'].replace('\\n',' ',regex=True)"
   ]
  },
  {
   "cell_type": "markdown",
   "metadata": {},
   "source": [
    "## Cleaning up designer column\n",
    "\n",
    "1. Dealing with collobrations between designers\n",
    "2. Drop rows where designer count is less than 25"
   ]
  },
  {
   "cell_type": "code",
   "execution_count": 54,
   "metadata": {},
   "outputs": [],
   "source": [
    "# resetting the index\n",
    "df.index = range(len(df))"
   ]
  },
  {
   "cell_type": "code",
   "execution_count": 55,
   "metadata": {},
   "outputs": [],
   "source": [
    "# function to change coloborations into one designer\n",
    "def one_designer(row):\n",
    "    word = df['designer'][row]\n",
    "    words = word.split() \n",
    "    if 'x' in words:\n",
    "        df['designer'][row] = df['designer'][row][:word.index('x')].strip() # if x is in the designer name will only return first designer\n",
    "    return df['designer'][row]"
   ]
  },
  {
   "cell_type": "code",
   "execution_count": 56,
   "metadata": {},
   "outputs": [
    {
     "name": "stderr",
     "output_type": "stream",
     "text": [
      "<ipython-input-55-0da5feab6913>:6: SettingWithCopyWarning: \n",
      "A value is trying to be set on a copy of a slice from a DataFrame\n",
      "\n",
      "See the caveats in the documentation: https://pandas.pydata.org/pandas-docs/stable/user_guide/indexing.html#returning-a-view-versus-a-copy\n",
      "  df['designer'][row] = df['designer'][row][:word.index('x')].strip() # if x is in the designer name will only return first designer\n"
     ]
    }
   ],
   "source": [
    "# applyng one_designer to all rows\n",
    "for i in range(len(df['designer'])):\n",
    "    one_designer(i)"
   ]
  },
  {
   "cell_type": "code",
   "execution_count": 57,
   "metadata": {},
   "outputs": [
    {
     "data": {
      "text/plain": [
       "Vintage              26984\n",
       "Nike                  3126\n",
       "Supreme               1524\n",
       "Adidas                1363\n",
       "Japanese Brand         908\n",
       "                     ...  \n",
       "Uniform E                1\n",
       "Universal Studios        1\n",
       "Ts(S)                    1\n",
       "Ripcurl                  1\n",
       "Shockoe Denim            1\n",
       "Name: designer, Length: 2263, dtype: int64"
      ]
     },
     "execution_count": 57,
     "metadata": {},
     "output_type": "execute_result"
    }
   ],
   "source": [
    "df['designer'].value_counts()"
   ]
  },
  {
   "cell_type": "code",
   "execution_count": 58,
   "metadata": {},
   "outputs": [],
   "source": [
    "# dropping all rows of designer count less than 25\n",
    "df = df.groupby('designer').filter(lambda x : len(x)>25)"
   ]
  },
  {
   "cell_type": "markdown",
   "metadata": {},
   "source": [
    "## Final Dataframe"
   ]
  },
  {
   "cell_type": "code",
   "execution_count": 59,
   "metadata": {},
   "outputs": [],
   "source": [
    "# dropping duplicates\n",
    "df.drop_duplicates(inplace=True)"
   ]
  },
  {
   "cell_type": "code",
   "execution_count": 65,
   "metadata": {},
   "outputs": [],
   "source": [
    "# exporting final data\n",
    "df.to_csv('modeling_data.csv', index=False)"
   ]
  }
 ],
 "metadata": {
  "kernelspec": {
   "display_name": "Python 3",
   "language": "python",
   "name": "python3"
  },
  "language_info": {
   "codemirror_mode": {
    "name": "ipython",
    "version": 3
   },
   "file_extension": ".py",
   "mimetype": "text/x-python",
   "name": "python",
   "nbconvert_exporter": "python",
   "pygments_lexer": "ipython3",
   "version": "3.8.3"
  }
 },
 "nbformat": 4,
 "nbformat_minor": 4
}
